{
 "cells": [
  {
   "cell_type": "markdown",
   "id": "d1713020",
   "metadata": {},
   "source": [
    "# Поиск токсичных комментариев с помощью BERT"
   ]
  },
  {
   "cell_type": "markdown",
   "id": "48e24ffe",
   "metadata": {},
   "source": [
    "Интернет-магазин запускает новый сервис — теперь пользователи могут редактировать и дополнять описания товаров, как в вики-сообществах. То есть, клиенты предлагают свои правки и комментируют изменения других. Магазину нужен инструмент, который будет искать токсичные комментарии и отправлять их на модерацию\n",
    "\n",
    "---\n",
    "\n",
    "**Цель исследования:** обучить модель, способную классифицировать комментарии как позитивные или негативные\n",
    "\n",
    "---\n",
    "\n",
    "**План выполнения работы:**\n",
    "\n",
    "- загрузка, предварительное изучение и исследовательский анализ данных\n",
    "- предобработка текста\n",
    "- подготовка данных к обучению с помощью BERT\n",
    "- обучение моделей\n",
    "- анализ результатов\n",
    "\n",
    "Каждый шаг исследования заканчивается промежуточным выводом. В конце исследования даётся общий подробный вывод\n",
    "\n",
    "---\n",
    "\n",
    "- в распоряжении имеется набор данных с разметкой о токсичности правок\n",
    "- итоговая метрика F1 получившейся модели должна быть не меньше 0.75\n",
    "\n",
    "---"
   ]
  },
  {
   "cell_type": "code",
   "execution_count": 1,
   "id": "8cd1205b",
   "metadata": {},
   "outputs": [
    {
     "data": {
      "text/html": [
       "<style>.container { width:90% !important; }</style>"
      ],
      "text/plain": [
       "<IPython.core.display.HTML object>"
      ]
     },
     "metadata": {},
     "output_type": "display_data"
    }
   ],
   "source": [
    "# установка широкоформатного jupyter\n",
    "\n",
    "from IPython.display import display, HTML\n",
    "display(HTML(\"<style>.container { width:90% !important; }</style>\"))"
   ]
  },
  {
   "cell_type": "code",
   "execution_count": 2,
   "id": "2907dc4d",
   "metadata": {},
   "outputs": [],
   "source": [
    "# обновление seaborn\n",
    "\n",
    "!pip install --upgrade seaborn -q"
   ]
  },
  {
   "cell_type": "code",
   "execution_count": 3,
   "id": "6923a651",
   "metadata": {},
   "outputs": [],
   "source": [
    "# установка необходимых модулей\n",
    "\n",
    "!pip install transformers -q\n",
    "!pip install torch -q --no-warn-script-location\n",
    "!pip install catboost -q"
   ]
  },
  {
   "cell_type": "code",
   "execution_count": 4,
   "id": "0a720a55",
   "metadata": {},
   "outputs": [],
   "source": [
    "# импорт библиотек\n",
    "\n",
    "import numpy as np\n",
    "import pandas as pd\n",
    "import seaborn as sns\n",
    "import matplotlib.pyplot as plt\n",
    "\n",
    "import os\n",
    "import re\n",
    "import copy\n",
    "from time import time\n",
    "from sklearn.utils import shuffle\n",
    "from IPython.display import display\n",
    "\n",
    "import torch \n",
    "import transformers\n",
    "from transformers import BertTokenizer, BertModel, AutoTokenizer, AutoModel\n",
    "\n",
    "from tqdm import notebook\n",
    "from tqdm import tqdm\n",
    "\n",
    "from sklearn.linear_model import LogisticRegression\n",
    "from sklearn.tree import DecisionTreeClassifier\n",
    "from sklearn.ensemble import RandomForestClassifier\n",
    "from catboost import CatBoostClassifier\n",
    "from sklearn.neighbors import KNeighborsClassifier\n",
    "from sklearn.dummy import DummyClassifier\n",
    "\n",
    "from sklearn.model_selection import train_test_split, RandomizedSearchCV, GridSearchCV, cross_val_score\n",
    "from sklearn.metrics import f1_score\n",
    "\n",
    "import warnings\n",
    "warnings.filterwarnings(\"ignore\", category=FutureWarning)"
   ]
  },
  {
   "cell_type": "code",
   "execution_count": 5,
   "id": "adde7047",
   "metadata": {},
   "outputs": [],
   "source": [
    "# контсанты\n",
    "\n",
    "RANDOM_STATE = 42\n",
    "TEST_SIZE = 0.25\n",
    "TARGET = 'toxic'\n",
    "MODEL_NAME = 'unitary/toxic-bert'"
   ]
  },
  {
   "cell_type": "markdown",
   "id": "1ba5c926",
   "metadata": {},
   "source": [
    "---"
   ]
  },
  {
   "cell_type": "code",
   "execution_count": 6,
   "id": "6c7f3de9",
   "metadata": {},
   "outputs": [],
   "source": [
    "def get_info(data):\n",
    "    \n",
    "    \"\"\"\n",
    "    Функция get_info выводит на экран пять случайных строк таблицы и общую информацию, полученную с помощью info()\n",
    "\n",
    "    Аргументы:\n",
    "    data (DataFrame): датафрейм\n",
    "\n",
    "    \"\"\"\n",
    "    \n",
    "    print('Пять случайных строк таблицы:')\n",
    "    display(data.sample(5))\n",
    "    print(' ')\n",
    "    print('Общая информация о таблице:')\n",
    "    print(' ')\n",
    "    print(data.info())"
   ]
  },
  {
   "cell_type": "code",
   "execution_count": 7,
   "id": "501fd5f7",
   "metadata": {},
   "outputs": [],
   "source": [
    "def preprocess(data, data_name):\n",
    "    \n",
    "    \"\"\"\n",
    "    Функция preprocess выводит на экран количество дубликатов и пропусков в датафрейме\n",
    "\n",
    "    Аргументы:\n",
    "    data (DataFrame) : датафрейм\n",
    "    data_name (str) : название датафрейма\n",
    "    \n",
    "    \"\"\"\n",
    "    \n",
    "    for col in data:\n",
    "        isna_count = data[col].isna().sum()\n",
    "        if isna_count > 0:\n",
    "            print(f'Пропусков найдено в столбце {col}: {isna_count}')\n",
    "    isna_total = data.isna().sum().sum()\n",
    "    if isna_total == 0:\n",
    "        print(f'В таблице {data_name} не найдено ни одного пропуска!')\n",
    "        \n",
    "    duplicates_count = data.duplicated().sum()\n",
    "    if duplicates_count > 0:\n",
    "        print(f'Дубликатов найдено: {duplicates_count}')\n",
    "    else:\n",
    "        print(f'В таблице {data_name} не найдено ни одного дубликата!')"
   ]
  },
  {
   "cell_type": "code",
   "execution_count": 8,
   "id": "a5ccda6c",
   "metadata": {},
   "outputs": [],
   "source": [
    "def value_counts(data, col, data_name):\n",
    "                \n",
    "    \"\"\"\n",
    "    Функция value_counts выводит на экран числовое распределение данных в категориальном столбце\n",
    "\n",
    "    Аргументы:\n",
    "    data (DataFrame) : датафрейм\n",
    "    col (str) : столбец датафрейма\n",
    "    data_name (str) : название датафрейма\n",
    "    \n",
    "    \"\"\"\n",
    "    \n",
    "    print(f'Распределение данных в столбце {col} таблицы {data_name}:')\n",
    "    print(' ')\n",
    "    print(data[col].value_counts())"
   ]
  },
  {
   "cell_type": "code",
   "execution_count": 9,
   "id": "9e501658",
   "metadata": {},
   "outputs": [],
   "source": [
    "def barplot(data, col, xlabel, title):\n",
    "            \n",
    "    \"\"\"\n",
    "    Функция barplot выводит на экран готовую столбчатую диаграмму размером 8х4 дюйма, \n",
    "    содержащую значения относительно частоты встречаемых значений\n",
    "\n",
    "    Аргументы:\n",
    "    data (DataFrame) : датафрейм\n",
    "    col (str) : столбец датафрейма\n",
    "    xlabel (str) : подпись оси Х\n",
    "    title (str) : название графика\n",
    "    \n",
    "    \"\"\"\n",
    "    \n",
    "    sns.set(style='darkgrid')\n",
    "    plt.figure(figsize=(8, 4))\n",
    "\n",
    "    data_new = data[col].value_counts(normalize=True)\n",
    "    data_new_ = data_new.reset_index()\n",
    "    data_new_.columns = [col, 'count']\n",
    "    \n",
    "    unique_values = len(data_new_)\n",
    "    palette = sns.color_palette(\"Blues\", unique_values)\n",
    "    \n",
    "    ax = sns.barplot(x=col, y='count', data=data_new_, hue=col, dodge=False, palette=palette, legend=False)\n",
    "\n",
    "    for p in ax.patches:\n",
    "        ax.text(p.get_x() + p.get_width() / 2., p.get_height(), '%d' % int(p.get_height() * 100) + '%',\n",
    "                fontsize=8, ha='center', va='bottom')\n",
    "\n",
    "    plt.title(title, fontsize=16)\n",
    "    plt.xlabel(xlabel)\n",
    "    plt.ylabel('Частота')\n",
    "\n",
    "    plt.show()"
   ]
  },
  {
   "cell_type": "markdown",
   "id": "728289b4",
   "metadata": {},
   "source": [
    "---\n",
    "\n",
    "<div style=\"background-color: rgba(255, 255, 255, 0.8); padding: 20px; font-size: 25px; color: rgba(28, 28, 28, 1);\">\n",
    "Загрузка, предварительное изучение и исследовательский анализ данных\n",
    "</div>\n",
    "\n",
    "---"
   ]
  },
  {
   "cell_type": "code",
   "execution_count": 12,
   "id": "36587750",
   "metadata": {},
   "outputs": [],
   "source": [
    "# загрузка данных\n",
    "\n",
    "pth1 = 'D:/datasets/toxic_comments.csv'\n",
    "pth2 = '/datasets/toxic_comments.csv'\n",
    "\n",
    "if os.path.exists(pth1):\n",
    "    comments = pd.read_csv(pth1, index_col=0)\n",
    "elif os.path.exists(pth2):\n",
    "    comments = pd.read_csv(pth2, index_col=0)\n",
    "else:\n",
    "    print('Что-то пошло не так!')"
   ]
  },
  {
   "cell_type": "code",
   "execution_count": 13,
   "id": "201e20d4",
   "metadata": {},
   "outputs": [
    {
     "name": "stdout",
     "output_type": "stream",
     "text": [
      "Пять случайных строк таблицы:\n"
     ]
    },
    {
     "data": {
      "text/html": [
       "<div>\n",
       "<style scoped>\n",
       "    .dataframe tbody tr th:only-of-type {\n",
       "        vertical-align: middle;\n",
       "    }\n",
       "\n",
       "    .dataframe tbody tr th {\n",
       "        vertical-align: top;\n",
       "    }\n",
       "\n",
       "    .dataframe thead th {\n",
       "        text-align: right;\n",
       "    }\n",
       "</style>\n",
       "<table border=\"1\" class=\"dataframe\">\n",
       "  <thead>\n",
       "    <tr style=\"text-align: right;\">\n",
       "      <th></th>\n",
       "      <th>text</th>\n",
       "      <th>toxic</th>\n",
       "    </tr>\n",
       "  </thead>\n",
       "  <tbody>\n",
       "    <tr>\n",
       "      <th>47829</th>\n",
       "      <td>Sandbox \\n\\nHi EnigmaJohn. I've moved the Sale...</td>\n",
       "      <td>0</td>\n",
       "    </tr>\n",
       "    <tr>\n",
       "      <th>89934</th>\n",
       "      <td>203.124.2.14]] 07:29, 27 July</td>\n",
       "      <td>0</td>\n",
       "    </tr>\n",
       "    <tr>\n",
       "      <th>124286</th>\n",
       "      <td>List of presidents of European Union instituti...</td>\n",
       "      <td>0</td>\n",
       "    </tr>\n",
       "    <tr>\n",
       "      <th>60118</th>\n",
       "      <td>User:CardMaster21 \\n\\nThis guy plagiarized you...</td>\n",
       "      <td>0</td>\n",
       "    </tr>\n",
       "    <tr>\n",
       "      <th>8710</th>\n",
       "      <td>Elsa Cladera de Bravo \\n\\nHi, I have tried man...</td>\n",
       "      <td>0</td>\n",
       "    </tr>\n",
       "  </tbody>\n",
       "</table>\n",
       "</div>"
      ],
      "text/plain": [
       "                                                     text  toxic\n",
       "47829   Sandbox \\n\\nHi EnigmaJohn. I've moved the Sale...      0\n",
       "89934                       203.124.2.14]] 07:29, 27 July      0\n",
       "124286  List of presidents of European Union instituti...      0\n",
       "60118   User:CardMaster21 \\n\\nThis guy plagiarized you...      0\n",
       "8710    Elsa Cladera de Bravo \\n\\nHi, I have tried man...      0"
      ]
     },
     "metadata": {},
     "output_type": "display_data"
    },
    {
     "name": "stdout",
     "output_type": "stream",
     "text": [
      " \n",
      "Общая информация о таблице:\n",
      " \n",
      "<class 'pandas.core.frame.DataFrame'>\n",
      "Index: 159292 entries, 0 to 159450\n",
      "Data columns (total 2 columns):\n",
      " #   Column  Non-Null Count   Dtype \n",
      "---  ------  --------------   ----- \n",
      " 0   text    159292 non-null  object\n",
      " 1   toxic   159292 non-null  int64 \n",
      "dtypes: int64(1), object(1)\n",
      "memory usage: 3.6+ MB\n",
      "None\n"
     ]
    }
   ],
   "source": [
    "# изучим общую информацию о таблице\n",
    "\n",
    "get_info(comments)"
   ]
  },
  {
   "cell_type": "code",
   "execution_count": 14,
   "id": "566cfd62",
   "metadata": {},
   "outputs": [
    {
     "name": "stdout",
     "output_type": "stream",
     "text": [
      "В таблице comments не найдено ни одного пропуска!\n",
      "В таблице comments не найдено ни одного дубликата!\n"
     ]
    }
   ],
   "source": [
    "# проверим таблицу на наличие пропусков и дубликатов\n",
    "\n",
    "preprocess(comments, 'comments')"
   ]
  },
  {
   "cell_type": "markdown",
   "id": "37a89634",
   "metadata": {},
   "source": [
    "- столбец `text`, согласно описанию данных, содержит текст комментариев, а столбец `toxic` — целевой признак, является комментарий токсичным или нет (где 1 — комментарий токсичен, 0 — нет)\n",
    "- таблица содержит 159292 наблюдений\n",
    "- пропусков и дубликатов в данных нет\n",
    "- типы данных отображены верно"
   ]
  },
  {
   "cell_type": "code",
   "execution_count": 15,
   "id": "39a16cf7",
   "metadata": {},
   "outputs": [
    {
     "name": "stdout",
     "output_type": "stream",
     "text": [
      "Распределение данных в столбце toxic таблицы comments:\n",
      " \n",
      "toxic\n",
      "0    143106\n",
      "1     16186\n",
      "Name: count, dtype: int64\n"
     ]
    }
   ],
   "source": [
    "# посмотрим на числовое распределение данных в столбце toxic\n",
    "\n",
    "value_counts(comments, 'toxic', 'comments')"
   ]
  },
  {
   "cell_type": "code",
   "execution_count": 16,
   "id": "1a9d2f84",
   "metadata": {},
   "outputs": [
    {
     "data": {
      "image/png": "[encoded data removed]",
      "text/plain": [
       "<Figure size 800x400 with 1 Axes>"
      ]
     },
     "metadata": {},
     "output_type": "display_data"
    }
   ],
   "source": [
    "# рассмотрим распределение признака на графике\n",
    "\n",
    "barplot(comments, 'toxic', 'Является ли комментарий токсичным? (1 — да, 0 — нет)', 'Столбчатая диаграмма для признака toxic')"
   ]
  },
  {
   "cell_type": "markdown",
   "id": "862785df",
   "metadata": {},
   "source": [
    "90% комментариев не являются токсичными. Наблюдаем сильный дисбаланс классов. Устранять его мы, конечно, не будем — важно, чтобы модель справлялась с реальным потоком несбалансированных данных, но учтём этот факт в дальнейшей работе"
   ]
  },
  {
   "cell_type": "code",
   "execution_count": 17,
   "id": "0496c2fc",
   "metadata": {},
   "outputs": [],
   "source": [
    "# разделим данные на обучающую и тестовую выборки с сохранением распределения классов\n",
    "\n",
    "comments_sampled, _, _, _ = train_test_split(\n",
    "    comments,\n",
    "    comments[TARGET],\n",
    "    test_size = 2000,\n",
    "    stratify = comments[TARGET],\n",
    "    random_state = RANDOM_STATE)"
   ]
  },
  {
   "cell_type": "code",
   "execution_count": 18,
   "id": "68952f3e",
   "metadata": {},
   "outputs": [
    {
     "name": "stdout",
     "output_type": "stream",
     "text": [
      "(157292, 2)\n"
     ]
    }
   ],
   "source": [
    "# проверим размерность полученной подвыборки\n",
    "\n",
    "print(comments_sampled.shape)"
   ]
  },
  {
   "cell_type": "code",
   "execution_count": 19,
   "id": "2addf21c",
   "metadata": {},
   "outputs": [
    {
     "name": "stdout",
     "output_type": "stream",
     "text": [
      "Распределение данных в столбце toxic таблицы comments:\n",
      " \n",
      "toxic\n",
      "0    141309\n",
      "1     15983\n",
      "Name: count, dtype: int64\n"
     ]
    }
   ],
   "source": [
    "# снова посмотрим на числовое распределение данных в столбце toxic\n",
    "\n",
    "value_counts(comments_sampled, 'toxic', 'comments')"
   ]
  },
  {
   "cell_type": "code",
   "execution_count": 20,
   "id": "48f46f5f",
   "metadata": {},
   "outputs": [
    {
     "data": {
      "image/png": "[encoded data removed]",
      "text/plain": [
       "<Figure size 800x400 with 1 Axes>"
      ]
     },
     "metadata": {},
     "output_type": "display_data"
    }
   ],
   "source": [
    "# снова оценим баланс классов с помощью графика\n",
    "\n",
    "barplot(comments_sampled, 'toxic', 'Является ли комментарий токсичным? (1 — да, 0 — нет)', 'Столбчатая диаграмма для признака toxic')"
   ]
  },
  {
   "cell_type": "markdown",
   "id": "3bab54f7",
   "metadata": {},
   "source": [
    "---\n",
    "\n",
    "<div style=\"background-color: rgba(255, 255, 255, 0.8); padding: 20px; font-size: 25px; color: rgba(28, 28, 28, 1);\">\n",
    "Предобработка текста\n",
    "</div>\n",
    "\n",
    "---"
   ]
  },
  {
   "cell_type": "code",
   "execution_count": 21,
   "id": "b9bb84ed",
   "metadata": {},
   "outputs": [],
   "source": [
    "def uncover_reduction(string):\n",
    "    \n",
    "    \"\"\"\n",
    "    Функция uncover_reduction заменяет символы ’ на '\n",
    "    и устраняет англоязычные сокращения в тексте\n",
    "    \n",
    "    Аргументы:\n",
    "    string : строка\n",
    "    \n",
    "    \"\"\"\n",
    "\n",
    "    string_tmp = string.replace('’', \"'\")\n",
    "    \n",
    "    if (string_tmp.find(\"'\") == -1):\n",
    "        return string_tmp\n",
    "    \n",
    "    parts = (\"'s \", \"'t \", \"'ll \", \"'ve \", \"'m \", \"'d \", \"'re \")\n",
    "    founded = False\n",
    "    for part in parts:\n",
    "        if (string_tmp.find(part) != -1):\n",
    "            founded = True\n",
    "            break;\n",
    "    \n",
    "    if not founded:\n",
    "        return string_tmp\n",
    "\n",
    "    for key, value in reduction_dict.items():\n",
    "        string_tmp = string_tmp.replace(key, value)\n",
    "        \n",
    "    return string_tmp"
   ]
  },
  {
   "cell_type": "code",
   "execution_count": 22,
   "id": "a50320af",
   "metadata": {},
   "outputs": [],
   "source": [
    "def clean_text(string):\n",
    "                                                    \n",
    "    \"\"\"\n",
    "    Функция clean_text заменяет указанные символы на пробелы, \n",
    "    удаляет все знаки препинания, цифры и другие символы, оставляя только буквы и пробелы\n",
    "    \n",
    "    Аргументы:\n",
    "    string (str) : строка\n",
    "\n",
    "    \"\"\"\n",
    "    \n",
    "    string = re.sub(r\"[\\n\\r]\", \" \", string)\n",
    "    string = re.sub(r\"[^a-zA-Z ]+\", \"\", string)\n",
    "    \n",
    "    return string.strip()"
   ]
  },
  {
   "cell_type": "markdown",
   "id": "b29619de",
   "metadata": {},
   "source": [
    "---"
   ]
  },
  {
   "cell_type": "code",
   "execution_count": 23,
   "id": "dae306ed",
   "metadata": {},
   "outputs": [],
   "source": [
    "# приведём текст комментариев к нижнему регистру и создадим новый столбец с обновлённым текстом\n",
    "\n",
    "comments_sampled['text_prepared'] = comments_sampled['text'].str.lower()"
   ]
  },
  {
   "cell_type": "code",
   "execution_count": 24,
   "id": "19cf7a8c",
   "metadata": {},
   "outputs": [
    {
     "name": "stdout",
     "output_type": "stream",
     "text": [
      "Пять случайных строк таблицы:\n"
     ]
    },
    {
     "data": {
      "text/html": [
       "<div>\n",
       "<style scoped>\n",
       "    .dataframe tbody tr th:only-of-type {\n",
       "        vertical-align: middle;\n",
       "    }\n",
       "\n",
       "    .dataframe tbody tr th {\n",
       "        vertical-align: top;\n",
       "    }\n",
       "\n",
       "    .dataframe thead th {\n",
       "        text-align: right;\n",
       "    }\n",
       "</style>\n",
       "<table border=\"1\" class=\"dataframe\">\n",
       "  <thead>\n",
       "    <tr style=\"text-align: right;\">\n",
       "      <th></th>\n",
       "      <th>text</th>\n",
       "      <th>toxic</th>\n",
       "      <th>text_prepared</th>\n",
       "    </tr>\n",
       "  </thead>\n",
       "  <tbody>\n",
       "    <tr>\n",
       "      <th>1057</th>\n",
       "      <td>At school I was taught that the gravitational ...</td>\n",
       "      <td>0</td>\n",
       "      <td>at school i was taught that the gravitational ...</td>\n",
       "    </tr>\n",
       "    <tr>\n",
       "      <th>150272</th>\n",
       "      <td>Thanks. (T / C / WP:FOUR / WP:CHICAGO / WP:WAW...</td>\n",
       "      <td>0</td>\n",
       "      <td>thanks. (t / c / wp:four / wp:chicago / wp:waw...</td>\n",
       "    </tr>\n",
       "    <tr>\n",
       "      <th>74643</th>\n",
       "      <td>\":::::::::::::(To Penguin) I'm ROFL, so I'll s...</td>\n",
       "      <td>0</td>\n",
       "      <td>\":::::::::::::(to penguin) i'm rofl, so i'll s...</td>\n",
       "    </tr>\n",
       "    <tr>\n",
       "      <th>140032</th>\n",
       "      <td>Responded to your email.</td>\n",
       "      <td>0</td>\n",
       "      <td>responded to your email.</td>\n",
       "    </tr>\n",
       "    <tr>\n",
       "      <th>108200</th>\n",
       "      <td>Reply:   Lankaweb like Asia Tribune  is not a ...</td>\n",
       "      <td>0</td>\n",
       "      <td>reply:   lankaweb like asia tribune  is not a ...</td>\n",
       "    </tr>\n",
       "  </tbody>\n",
       "</table>\n",
       "</div>"
      ],
      "text/plain": [
       "                                                     text  toxic  \\\n",
       "1057    At school I was taught that the gravitational ...      0   \n",
       "150272  Thanks. (T / C / WP:FOUR / WP:CHICAGO / WP:WAW...      0   \n",
       "74643   \":::::::::::::(To Penguin) I'm ROFL, so I'll s...      0   \n",
       "140032                           Responded to your email.      0   \n",
       "108200  Reply:   Lankaweb like Asia Tribune  is not a ...      0   \n",
       "\n",
       "                                            text_prepared  \n",
       "1057    at school i was taught that the gravitational ...  \n",
       "150272  thanks. (t / c / wp:four / wp:chicago / wp:waw...  \n",
       "74643   \":::::::::::::(to penguin) i'm rofl, so i'll s...  \n",
       "140032                           responded to your email.  \n",
       "108200  reply:   lankaweb like asia tribune  is not a ...  "
      ]
     },
     "metadata": {},
     "output_type": "display_data"
    },
    {
     "name": "stdout",
     "output_type": "stream",
     "text": [
      " \n",
      "Общая информация о таблице:\n",
      " \n",
      "<class 'pandas.core.frame.DataFrame'>\n",
      "Index: 157292 entries, 68067 to 140046\n",
      "Data columns (total 3 columns):\n",
      " #   Column         Non-Null Count   Dtype \n",
      "---  ------         --------------   ----- \n",
      " 0   text           157292 non-null  object\n",
      " 1   toxic          157292 non-null  int64 \n",
      " 2   text_prepared  157292 non-null  object\n",
      "dtypes: int64(1), object(2)\n",
      "memory usage: 4.8+ MB\n",
      "None\n"
     ]
    }
   ],
   "source": [
    "# проверим результат\n",
    "\n",
    "get_info(comments_sampled)"
   ]
  },
  {
   "cell_type": "markdown",
   "id": "e4213835",
   "metadata": {},
   "source": [
    "Видим в тексте много сокращений, сочетаний определённых слов. Перед применением BERT попробуем выполнить максимальную предобработку текста — избавимся от этих сокращений и очистим текст. Это может положительно повлиять на конечную метрику"
   ]
  },
  {
   "cell_type": "code",
   "execution_count": 26,
   "id": "92cc900d",
   "metadata": {},
   "outputs": [],
   "source": [
    "# напишем словарь, в котором каждая пара ключ-значение представляет собой сокращённое слово и его полную форму\n",
    "    \n",
    "reduction_dict = {}\n",
    "reduction_dict.update({\n",
    "    \"i'm\" : 'i am',\n",
    "    \"i'd\" : 'i had',\n",
    "    \"i'll\" : 'i will',\n",
    "    \"i've\" : 'i have',\n",
    "    \"you're\" : 'you are',\n",
    "    \"you'd\" : 'you had',\n",
    "    \"you'll\" : 'you will',\n",
    "    \"you've\" : 'you have',\n",
    "    \"he's\" : 'he is',\n",
    "    \"he'd\" : 'he had',\n",
    "    \"he'll\" : 'he will',\n",
    "    \"she's\" : 'she is',\n",
    "    \"she'd\" : 'she had',\n",
    "    \"she'll\" : 'she will',\n",
    "    \"it's\" : 'it is',\n",
    "    \"it'll\" : 'it will',\n",
    "    \"we're\" : 'we are',\n",
    "    \"we'd\" : 'we would',\n",
    "    \"we'll\" : 'we will',\n",
    "    \"we've\" : 'we have',\n",
    "    \"they're\" : 'they are',\n",
    "    \"they'd\" : 'they had',\n",
    "    \"they'll\" : 'they will',\n",
    "    \"they've\" : 'they have',\n",
    "    \"there's\" : 'there is',\n",
    "    \"there'll\" : 'there will',\n",
    "    \"there'd\" : 'there would',\n",
    "    \"that's\" : 'that is',\n",
    "    \"isn't\" : 'is not',\n",
    "    \"aren't\" : 'are not',\n",
    "    \"don't\" : 'do not',\n",
    "    \"doesn't\" : 'does not',\n",
    "    \"wasn't\" : 'was not',\n",
    "    \"weren't\" : 'were not',\n",
    "    \"didn't\" : 'did not',\n",
    "    \"haven't\" : 'have not',\n",
    "    \"hasn't\" : 'has not',\n",
    "    \"won't\" : 'will not',\n",
    "    \"hadn't\" : 'had not',\n",
    "    \"can't\" : 'can not',\n",
    "    \"couldn't\" : 'could not',\n",
    "    \"mustn't\" : 'must not',\n",
    "    \"mightn't\" : 'might not',\n",
    "    \"needn't\" : 'need not',\n",
    "    \"shouldn't\" : 'should not',\n",
    "    \"oughtn't\" : 'ought not',\n",
    "    \"wouldn't\" : 'would not',\n",
    "    \"what's\" : 'what is',\n",
    "    \"how's\" : 'how is',\n",
    "    \"where's\": 'where is'\n",
    "})"
   ]
  },
  {
   "cell_type": "code",
   "execution_count": 27,
   "id": "ad62d610",
   "metadata": {},
   "outputs": [],
   "source": [
    "# применим функцию uncover_reduction, сохранив обновлённый текст в новый столбец\n",
    "\n",
    "comments_sampled['text_prepared'] = comments_sampled['text_prepared'].apply(uncover_reduction)"
   ]
  },
  {
   "cell_type": "code",
   "execution_count": 28,
   "id": "65347dca",
   "metadata": {},
   "outputs": [
    {
     "data": {
      "text/html": [
       "<div>\n",
       "<style scoped>\n",
       "    .dataframe tbody tr th:only-of-type {\n",
       "        vertical-align: middle;\n",
       "    }\n",
       "\n",
       "    .dataframe tbody tr th {\n",
       "        vertical-align: top;\n",
       "    }\n",
       "\n",
       "    .dataframe thead th {\n",
       "        text-align: right;\n",
       "    }\n",
       "</style>\n",
       "<table border=\"1\" class=\"dataframe\">\n",
       "  <thead>\n",
       "    <tr style=\"text-align: right;\">\n",
       "      <th></th>\n",
       "      <th>text</th>\n",
       "      <th>text_prepared</th>\n",
       "    </tr>\n",
       "  </thead>\n",
       "  <tbody>\n",
       "    <tr>\n",
       "      <th>68067</th>\n",
       "      <td>Thank for the discussion. On second thought, I...</td>\n",
       "      <td>thank for the discussion. on second thought, i...</td>\n",
       "    </tr>\n",
       "    <tr>\n",
       "      <th>95016</th>\n",
       "      <td>Revert on January 19, 2007\\n\\nI have reverted ...</td>\n",
       "      <td>revert on january 19, 2007\\n\\ni have reverted ...</td>\n",
       "    </tr>\n",
       "    <tr>\n",
       "      <th>156814</th>\n",
       "      <td>I am under attack! \\n\\nYou guys are censoring ...</td>\n",
       "      <td>i am under attack! \\n\\nyou guys are censoring ...</td>\n",
       "    </tr>\n",
       "    <tr>\n",
       "      <th>26991</th>\n",
       "      <td>And for what it's worth, the Constitution also...</td>\n",
       "      <td>and for what it is worth, the constitution als...</td>\n",
       "    </tr>\n",
       "    <tr>\n",
       "      <th>42097</th>\n",
       "      <td>Re Fauna of Puerto Rico\\n\\nSorry. I am glad yo...</td>\n",
       "      <td>re fauna of puerto rico\\n\\nsorry. i am glad yo...</td>\n",
       "    </tr>\n",
       "  </tbody>\n",
       "</table>\n",
       "</div>"
      ],
      "text/plain": [
       "                                                     text  \\\n",
       "68067   Thank for the discussion. On second thought, I...   \n",
       "95016   Revert on January 19, 2007\\n\\nI have reverted ...   \n",
       "156814  I am under attack! \\n\\nYou guys are censoring ...   \n",
       "26991   And for what it's worth, the Constitution also...   \n",
       "42097   Re Fauna of Puerto Rico\\n\\nSorry. I am glad yo...   \n",
       "\n",
       "                                            text_prepared  \n",
       "68067   thank for the discussion. on second thought, i...  \n",
       "95016   revert on january 19, 2007\\n\\ni have reverted ...  \n",
       "156814  i am under attack! \\n\\nyou guys are censoring ...  \n",
       "26991   and for what it is worth, the constitution als...  \n",
       "42097   re fauna of puerto rico\\n\\nsorry. i am glad yo...  "
      ]
     },
     "execution_count": 28,
     "metadata": {},
     "output_type": "execute_result"
    }
   ],
   "source": [
    "# проверим результат\n",
    "\n",
    "comments_sampled[['text', 'text_prepared']].head()"
   ]
  },
  {
   "cell_type": "code",
   "execution_count": 29,
   "id": "c09ad3b4",
   "metadata": {},
   "outputs": [],
   "source": [
    "# применим функцию для очистки текста\n",
    "\n",
    "comments_sampled['text_cleared'] = comments_sampled['text_prepared'].apply(clean_text)"
   ]
  },
  {
   "cell_type": "code",
   "execution_count": 30,
   "id": "276c674e",
   "metadata": {},
   "outputs": [
    {
     "data": {
      "text/html": [
       "<div>\n",
       "<style scoped>\n",
       "    .dataframe tbody tr th:only-of-type {\n",
       "        vertical-align: middle;\n",
       "    }\n",
       "\n",
       "    .dataframe tbody tr th {\n",
       "        vertical-align: top;\n",
       "    }\n",
       "\n",
       "    .dataframe thead th {\n",
       "        text-align: right;\n",
       "    }\n",
       "</style>\n",
       "<table border=\"1\" class=\"dataframe\">\n",
       "  <thead>\n",
       "    <tr style=\"text-align: right;\">\n",
       "      <th></th>\n",
       "      <th>text</th>\n",
       "      <th>text_prepared</th>\n",
       "      <th>text_cleared</th>\n",
       "    </tr>\n",
       "  </thead>\n",
       "  <tbody>\n",
       "    <tr>\n",
       "      <th>68067</th>\n",
       "      <td>Thank for the discussion. On second thought, I...</td>\n",
       "      <td>thank for the discussion. on second thought, i...</td>\n",
       "      <td>thank for the discussion on second thought i a...</td>\n",
       "    </tr>\n",
       "    <tr>\n",
       "      <th>95016</th>\n",
       "      <td>Revert on January 19, 2007\\n\\nI have reverted ...</td>\n",
       "      <td>revert on january 19, 2007\\n\\ni have reverted ...</td>\n",
       "      <td>revert on january    i have reverted the follo...</td>\n",
       "    </tr>\n",
       "    <tr>\n",
       "      <th>156814</th>\n",
       "      <td>I am under attack! \\n\\nYou guys are censoring ...</td>\n",
       "      <td>i am under attack! \\n\\nyou guys are censoring ...</td>\n",
       "      <td>i am under attack   you guys are censoring any...</td>\n",
       "    </tr>\n",
       "    <tr>\n",
       "      <th>26991</th>\n",
       "      <td>And for what it's worth, the Constitution also...</td>\n",
       "      <td>and for what it is worth, the constitution als...</td>\n",
       "      <td>and for what it is worth the constitution also...</td>\n",
       "    </tr>\n",
       "    <tr>\n",
       "      <th>42097</th>\n",
       "      <td>Re Fauna of Puerto Rico\\n\\nSorry. I am glad yo...</td>\n",
       "      <td>re fauna of puerto rico\\n\\nsorry. i am glad yo...</td>\n",
       "      <td>re fauna of puerto rico  sorry i am glad you h...</td>\n",
       "    </tr>\n",
       "  </tbody>\n",
       "</table>\n",
       "</div>"
      ],
      "text/plain": [
       "                                                     text  \\\n",
       "68067   Thank for the discussion. On second thought, I...   \n",
       "95016   Revert on January 19, 2007\\n\\nI have reverted ...   \n",
       "156814  I am under attack! \\n\\nYou guys are censoring ...   \n",
       "26991   And for what it's worth, the Constitution also...   \n",
       "42097   Re Fauna of Puerto Rico\\n\\nSorry. I am glad yo...   \n",
       "\n",
       "                                            text_prepared  \\\n",
       "68067   thank for the discussion. on second thought, i...   \n",
       "95016   revert on january 19, 2007\\n\\ni have reverted ...   \n",
       "156814  i am under attack! \\n\\nyou guys are censoring ...   \n",
       "26991   and for what it is worth, the constitution als...   \n",
       "42097   re fauna of puerto rico\\n\\nsorry. i am glad yo...   \n",
       "\n",
       "                                             text_cleared  \n",
       "68067   thank for the discussion on second thought i a...  \n",
       "95016   revert on january    i have reverted the follo...  \n",
       "156814  i am under attack   you guys are censoring any...  \n",
       "26991   and for what it is worth the constitution also...  \n",
       "42097   re fauna of puerto rico  sorry i am glad you h...  "
      ]
     },
     "execution_count": 30,
     "metadata": {},
     "output_type": "execute_result"
    }
   ],
   "source": [
    "# проверим результат\n",
    "\n",
    "comments_sampled[['text', 'text_prepared', 'text_cleared']].head()"
   ]
  },
  {
   "cell_type": "markdown",
   "id": "e8106ea5",
   "metadata": {},
   "source": [
    "<div style=\"border: 1px solid rgba(0, 0, 0, 0.2); border-radius: 10px; background-color: rgba(255, 255, 255, 0.8); padding: 10px;\">\n",
    "\n",
    "Текст комментариев приведён к нижнему регистру, слова-сокращения приведены в полную форму, удалены лишние символы. Конечный результат этого шага сохранён в столбце `text_cleared`\n",
    "    \n",
    "</div>"
   ]
  },
  {
   "cell_type": "markdown",
   "id": "3b56b141",
   "metadata": {},
   "source": [
    "---\n",
    "\n",
    "<div style=\"background-color: rgba(255, 255, 255, 0.8); padding: 20px; font-size: 25px; color: rgba(28, 28, 28, 1);\">\n",
    "Подготовка данных к обучению\n",
    "</div>\n",
    "\n",
    "---"
   ]
  },
  {
   "cell_type": "code",
   "execution_count": 31,
   "id": "3a430d07",
   "metadata": {},
   "outputs": [],
   "source": [
    "def split(data, target):\n",
    "                                        \n",
    "    \"\"\"\n",
    "    Функция split делит данные на тренировочную и тестовую выборки\n",
    "    \n",
    "    Аргументы:\n",
    "    data (DataFrame) : датафрейм\n",
    "    target (str) : целевой признак\n",
    "    \n",
    "    \"\"\"\n",
    "    \n",
    "    X_train, X_test, y_train, y_test = train_test_split(\n",
    "        data,\n",
    "        target,\n",
    "        test_size=TEST_SIZE,\n",
    "        random_state=RANDOM_STATE\n",
    "    )\n",
    "    \n",
    "    return X_train, X_test, y_train, y_test"
   ]
  },
  {
   "cell_type": "code",
   "execution_count": 32,
   "id": "29ac6d50",
   "metadata": {},
   "outputs": [],
   "source": [
    "def train_test_size(X_train, X_test, y_train, y_test):\n",
    "                                    \n",
    "    \"\"\"\n",
    "    Функция train_test_size выводит на экран размерность разделённых на выборки данных\n",
    "    \n",
    "    Аргументы:\n",
    "    X_train (DataFrame) : входные признаки тренировочной выборки\n",
    "    X_test (DataFrame) : входные признаки тестовой выборки\n",
    "    y_train (Series) : целевой признак тренировочной выборки\n",
    "    y_test (Series) : целевой признак тестовой выборки\n",
    "    \n",
    "    \"\"\"\n",
    "\n",
    "    print('Тренировочная выборка')\n",
    "    print(f'Размерность матрицы со входными признаками: {X_train.shape}')\n",
    "    print(f'Размерность матрицы с целевым признаком: {y_train.shape}')\n",
    "    print(' ')\n",
    "    print('Тестовая выборка')\n",
    "    print(f'Размерность матрицы со входными признаками: {X_test.shape}')\n",
    "    print(f'Размерность матрицы с целевым признаком: {y_test.shape}')"
   ]
  },
  {
   "cell_type": "markdown",
   "id": "a2664b47",
   "metadata": {},
   "source": [
    "---"
   ]
  },
  {
   "cell_type": "code",
   "execution_count": 38,
   "id": "9557d279",
   "metadata": {},
   "outputs": [],
   "source": [
    "# инициализируем BERT\n",
    "\n",
    "model = AutoModel.from_pretrained(MODEL_NAME)\n",
    "\n",
    "# инициализируем предварительно обученный токенизатор\n",
    "\n",
    "tokenizer = AutoTokenizer.from_pretrained(MODEL_NAME)"
   ]
  },
  {
   "cell_type": "code",
   "execution_count": 39,
   "id": "aff62f04",
   "metadata": {},
   "outputs": [],
   "source": [
    "# токенизируем подготовленный текст\n",
    "\n",
    "tokenized = comments_sampled['text_cleared'].apply(\n",
    "    lambda x: tokenizer.encode(x, add_special_tokens=True, truncation=True))"
   ]
  },
  {
   "cell_type": "code",
   "execution_count": 40,
   "id": "43755b12",
   "metadata": {},
   "outputs": [],
   "source": [
    "# найдем максимальную длину токенов\n",
    "\n",
    "max_len = 0\n",
    "for i in tokenized.values:\n",
    "    if len(i) > max_len:\n",
    "        max_len = len(i)"
   ]
  },
  {
   "cell_type": "code",
   "execution_count": 41,
   "id": "fdfefa39",
   "metadata": {},
   "outputs": [],
   "source": [
    "# ограничим длину токенов и создадим маску\n",
    "\n",
    "padded = np.array([i + [0] * (max_len - len(i)) for i in tokenized.values])\n",
    "attention_mask = np.where(padded != 0, 1, 0)"
   ]
  },
  {
   "cell_type": "code",
   "execution_count": 42,
   "id": "a4ea76f3",
   "metadata": {},
   "outputs": [
    {
     "data": {
      "text/plain": [
       "(2000, 512)"
      ]
     },
     "metadata": {},
     "output_type": "display_data"
    },
    {
     "data": {
      "text/plain": [
       "(2000, 512)"
      ]
     },
     "metadata": {},
     "output_type": "display_data"
    }
   ],
   "source": [
    "# проверим результат\n",
    "\n",
    "display(padded.shape, attention_mask.shape)"
   ]
  },
  {
   "cell_type": "code",
   "execution_count": 55,
   "id": "95cfc449",
   "metadata": {},
   "outputs": [
    {
     "data": {
      "application/vnd.jupyter.widget-view+json": {
       "model_id": "8bfba92555684912972f7843506a7916",
       "version_major": 2,
       "version_minor": 0
      },
      "text/plain": [
       "  0%|          | 0/20 [00:00<?, ?it/s]"
      ]
     },
     "metadata": {},
     "output_type": "display_data"
    },
    {
     "name": "stdout",
     "output_type": "stream",
     "text": [
      "Времени прошло, минут: 15.899430139859517\n"
     ]
    }
   ],
   "source": [
    "# получим эмбеддинги\n",
    "\n",
    "start = time()\n",
    "\n",
    "batch_size = 100\n",
    "embeddings = []\n",
    "for i in notebook.tqdm(range(padded.shape[0] // batch_size)):\n",
    "    batch = torch.LongTensor(padded[batch_size * i:batch_size * (i + 1)])\n",
    "    attention_mask_batch = torch.LongTensor(attention_mask[batch_size * i:batch_size * (i + 1)])\n",
    "\n",
    "    with torch.no_grad():\n",
    "        batch_embeddings = model(batch, attention_mask=attention_mask_batch)\n",
    "\n",
    "    embeddings.append(batch_embeddings[0][:, 0, :].numpy())\n",
    "    \n",
    "end = time()\n",
    "\n",
    "print(f'Времени прошло, минут: {(end - start) / 60}')"
   ]
  },
  {
   "cell_type": "code",
   "execution_count": 56,
   "id": "f4977dae",
   "metadata": {},
   "outputs": [],
   "source": [
    "# соберем все эмбеддинги в один массив\n",
    "\n",
    "X = np.concatenate(embeddings)\n",
    "y = comments_sampled[TARGET]"
   ]
  },
  {
   "cell_type": "code",
   "execution_count": 57,
   "id": "beb1a65a",
   "metadata": {},
   "outputs": [],
   "source": [
    "# разделим данные на тренировочную и тестовую выборки\n",
    "\n",
    "X_train, X_test, y_train, y_test = split(X, y)"
   ]
  },
  {
   "cell_type": "code",
   "execution_count": 58,
   "id": "667c4a29",
   "metadata": {},
   "outputs": [
    {
     "name": "stdout",
     "output_type": "stream",
     "text": [
      "Тренировочная выборка\n",
      "Размерность матрицы со входными признаками: (1500, 768)\n",
      "Размерность матрицы с целевым признаком: (1500,)\n",
      " \n",
      "Тестовая выборка\n",
      "Размерность матрицы со входными признаками: (500, 768)\n",
      "Размерность матрицы с целевым признаком: (500,)\n"
     ]
    }
   ],
   "source": [
    "# проверим результат\n",
    "\n",
    "train_test_size(X_train, X_test, y_train, y_test)"
   ]
  },
  {
   "cell_type": "markdown",
   "id": "eb815f1b",
   "metadata": {},
   "source": [
    "---\n",
    "\n",
    "<div style=\"background-color: rgba(255, 255, 255, 0.8); padding: 20px; font-size: 25px; color: rgba(28, 28, 28, 1);\">\n",
    "Обучение моделей\n",
    "</div>\n",
    "\n",
    "---"
   ]
  },
  {
   "cell_type": "code",
   "execution_count": null,
   "id": "bc4ed42d",
   "metadata": {},
   "outputs": [],
   "source": [
    "def run_grid_search(model, params):\n",
    "                                        \n",
    "    \"\"\"\n",
    "    Функция run_grid_search инициализирует GridSearchCV и выполняет поиск лучших гиперпараметров для модели\n",
    "    \n",
    "    Аргументы:\n",
    "    model : инициализированная модель машинного обучения\n",
    "    params (dict) : словарь с гипепараметрами\n",
    "\n",
    "    Возвращает:\n",
    "    gs : готовую модель с лучшими параметрами\n",
    "    gs_best_score : метрика F1 на тренировочной выборке\n",
    "    gs_best_params : список лучших параметров модели\n",
    "    \n",
    "    \"\"\"\n",
    "    \n",
    "    gs = GridSearchCV(model, params, n_jobs=-1, cv=5, scoring='f1')\n",
    "    gs.fit(X_train, y_train)\n",
    "    gs_best_score = gs.best_score_\n",
    "    gs_best_params = gs.best_params_\n",
    "    \n",
    "    return gs, gs_best_score, gs_best_params"
   ]
  },
  {
   "cell_type": "code",
   "execution_count": null,
   "id": "4260540d",
   "metadata": {},
   "outputs": [],
   "source": [
    "def run_randomized_search(model, params):\n",
    "                                            \n",
    "    \"\"\"\n",
    "    Функция run_randomized_search инициализирует RandomizedSearchCV и выполняет поиск лучших гиперпараметров для модели\n",
    "    \n",
    "    Аргументы:\n",
    "    model : инициализированная модель машинного обучения\n",
    "    params (dict) : словарь с гипепараметрами\n",
    "\n",
    "    Возвращает:\n",
    "    rs : готовую модель с лучшими параметрами\n",
    "    rs_best_score : метрика F1 на тренировочной выборке\n",
    "    rs_best_params : список лучших параметров модели\n",
    "    \n",
    "    \"\"\"\n",
    "    \n",
    "    rs = RandomizedSearchCV(model, param_distributions=params, scoring='f1', n_iter=100)\n",
    "    rs.fit(X_train, y_train)\n",
    "    rs_best_score = rs.best_score_\n",
    "    rs_best_params = rs.best_params_\n",
    "\n",
    "    return rs, rs_best_score, rs_best_params"
   ]
  },
  {
   "cell_type": "code",
   "execution_count": null,
   "id": "9f86c810",
   "metadata": {},
   "outputs": [],
   "source": [
    "def show_cv_results(score, params, model_name):\n",
    "                                                \n",
    "    \"\"\"\n",
    "    Функция show_cv_results выводит на экран результаты кросс-валидации модели\n",
    "    \n",
    "    Аргументы:\n",
    "    score : метрика F1 на тренировочной выборке\n",
    "    params (dict) : словарь с гипепараметрами\n",
    "    model_name (str) : имя модели\n",
    "\n",
    "    \"\"\"\n",
    "    \n",
    "    print(model_name)\n",
    "    print('')\n",
    "    print(f'Метрика F1 на тренировочной выборке: {score}')\n",
    "    print(f'Лучшие параметры модели: {params}')"
   ]
  },
  {
   "cell_type": "markdown",
   "id": "aea33555",
   "metadata": {},
   "source": [
    "---"
   ]
  },
  {
   "cell_type": "markdown",
   "id": "97cb77f4",
   "metadata": {},
   "source": [
    "## `LogisticRegression`"
   ]
  },
  {
   "cell_type": "code",
   "execution_count": 59,
   "id": "2691e07b",
   "metadata": {},
   "outputs": [],
   "source": [
    "# инициализируем модель\n",
    "\n",
    "model_lr = LogisticRegression(random_state=RANDOM_STATE, class_weight='balanced')"
   ]
  },
  {
   "cell_type": "code",
   "execution_count": 60,
   "id": "0558ea01",
   "metadata": {},
   "outputs": [],
   "source": [
    "# запишем гиперпараметры для модели\n",
    "\n",
    "params_lr = {'C': range(1, 10)}"
   ]
  },
  {
   "cell_type": "code",
   "execution_count": 63,
   "id": "aa3f1baf",
   "metadata": {},
   "outputs": [
    {
     "name": "stderr",
     "output_type": "stream",
     "text": [
      "C:\\Users\\User_\\AppData\\Roaming\\Python\\Python311\\site-packages\\sklearn\\linear_model\\_logistic.py:460: ConvergenceWarning: lbfgs failed to converge (status=1):\n",
      "STOP: TOTAL NO. of ITERATIONS REACHED LIMIT.\n",
      "\n",
      "Increase the number of iterations (max_iter) or scale the data as shown in:\n",
      "    https://scikit-learn.org/stable/modules/preprocessing.html\n",
      "Please also refer to the documentation for alternative solver options:\n",
      "    https://scikit-learn.org/stable/modules/linear_model.html#logistic-regression\n",
      "  n_iter_i = _check_optimize_result(\n"
     ]
    }
   ],
   "source": [
    "# выполним кросс-валидацию\n",
    "\n",
    "start_lr = time()\n",
    "\n",
    "lr, score_lr, best_params_lr = run_grid_search(model_lr, params_lr)\n",
    "\n",
    "end_lr = time()\n",
    "\n",
    "lr_time = (end_lr - start_lr)\n",
    "print(f'Время, затраченное на кросс-валидацию, секунд: {lr_time}')"
   ]
  },
  {
   "cell_type": "code",
   "execution_count": 66,
   "id": "055bcadb",
   "metadata": {},
   "outputs": [
    {
     "name": "stdout",
     "output_type": "stream",
     "text": [
      "LogisticRegression\n",
      "\n",
      "Метрика F1 на тренировочной выборке: 0.9188733207837767\n",
      "Лучшие параметры модели: {'C': 3}\n"
     ]
    }
   ],
   "source": [
    "# оценим результат\n",
    "\n",
    "results_lr = show_cv_results(score_lr, best_params_lr, 'LogisticRegression')"
   ]
  },
  {
   "cell_type": "markdown",
   "id": "31d3461d",
   "metadata": {},
   "source": [
    "## `DecisionTreeClassifier`"
   ]
  },
  {
   "cell_type": "code",
   "execution_count": 67,
   "id": "230c8370",
   "metadata": {},
   "outputs": [],
   "source": [
    "# инициализируем модель\n",
    "\n",
    "model_dt = DecisionTreeClassifier(random_state=RANDOM_STATE, class_weight='balanced')"
   ]
  },
  {
   "cell_type": "code",
   "execution_count": 68,
   "id": "aba7a8d3",
   "metadata": {},
   "outputs": [],
   "source": [
    "# запишем гиперпараметры для модели\n",
    "\n",
    "params_dt = {\n",
    "        'max_depth': range(1, 15),\n",
    "        'max_features': range(1, 160)\n",
    "}"
   ]
  },
  {
   "cell_type": "code",
   "execution_count": 69,
   "id": "b1b71cbe",
   "metadata": {},
   "outputs": [],
   "source": [
    "# выполним кросс-валидацию\n",
    "\n",
    "start_dt = time()\n",
    "\n",
    "dt, score_dt, best_params_dt = run_grid_search(model_dt, params_dt)\n",
    "\n",
    "end_dt = time()\n",
    "\n",
    "dt_time = (end_dt - start_dt) / 60\n",
    "print(f'Время, затраченное на кросс-валидацию, минут: {dt_time}')"
   ]
  },
  {
   "cell_type": "code",
   "execution_count": 71,
   "id": "a548c631",
   "metadata": {},
   "outputs": [
    {
     "name": "stdout",
     "output_type": "stream",
     "text": [
      "DecisionTreeClassifier\n",
      "\n",
      "Метрика F1 на тренировочной выборке: 0.9306975952101391\n",
      "Лучшие параметры модели: {'max_depth': 8, 'max_features': 128}\n"
     ]
    }
   ],
   "source": [
    "# оценим результат\n",
    "\n",
    "results_dt = show_cv_results(score_dt, best_params_dt, 'DecisionTreeClassifier')"
   ]
  },
  {
   "cell_type": "markdown",
   "id": "95c321a6",
   "metadata": {},
   "source": [
    "## `RandomForestClassifier`"
   ]
  },
  {
   "cell_type": "code",
   "execution_count": 81,
   "id": "f0f08bc9",
   "metadata": {},
   "outputs": [],
   "source": [
    "# инициализируем модель\n",
    "\n",
    "model_rf = RandomForestClassifier(random_state=RANDOM_STATE, class_weight='balanced')"
   ]
  },
  {
   "cell_type": "code",
   "execution_count": 82,
   "id": "ceca5e58",
   "metadata": {},
   "outputs": [],
   "source": [
    "# запишем гиперпараметры для модели\n",
    "\n",
    "params_rf = {\n",
    "    'max_depth': range(3, 20),\n",
    "    'max_features': range(1, 50)\n",
    "}"
   ]
  },
  {
   "cell_type": "code",
   "execution_count": 83,
   "id": "3a4b24b9",
   "metadata": {},
   "outputs": [
    {
     "name": "stdout",
     "output_type": "stream",
     "text": [
      "Время, затраченное на кросс-валидацию, минут: 12.28792664607366\n"
     ]
    }
   ],
   "source": [
    "# выполним кросс-валидацию\n",
    "\n",
    "start_rf = time()\n",
    "\n",
    "rf, score_rf, best_params_rf = run_randomized_search(model_rf, params_rf)\n",
    "\n",
    "end_rf = time()\n",
    "\n",
    "rf_time = (end_rf - start_rf) / 60\n",
    "print(f'Время, затраченное на кросс-валидацию, минут: {rf_time}')"
   ]
  },
  {
   "cell_type": "code",
   "execution_count": 84,
   "id": "16d17e74",
   "metadata": {},
   "outputs": [
    {
     "name": "stdout",
     "output_type": "stream",
     "text": [
      "RandomForestClassifier\n",
      "\n",
      "Метрика F1 на тренировочной выборке: 0.9296841287497571\n",
      "Лучшие параметры модели: {'max_features': 16, 'max_depth': 11}\n"
     ]
    }
   ],
   "source": [
    "# оцениsplitм результат\n",
    "\n",
    "results_rf = show_cv_results(score_rf, best_params_rf, 'RandomForestClassifier')"
   ]
  },
  {
   "cell_type": "markdown",
   "id": "e85c1401",
   "metadata": {},
   "source": [
    "## `KNeighborsClassifier`"
   ]
  },
  {
   "cell_type": "code",
   "execution_count": 99,
   "id": "e1f1b8b0",
   "metadata": {},
   "outputs": [],
   "source": [
    "# инициализируем модель\n",
    "\n",
    "model_kn = KNeighborsClassifier()"
   ]
  },
  {
   "cell_type": "code",
   "execution_count": 100,
   "id": "d7f9642e",
   "metadata": {},
   "outputs": [],
   "source": [
    "# запишем гиперпараметры для модели\n",
    "\n",
    "params_kn = {\n",
    "    'n_neighbors': range(1, 20),\n",
    "    'p': [1, 2]\n",
    "}"
   ]
  },
  {
   "cell_type": "code",
   "execution_count": 103,
   "id": "dfa49d45",
   "metadata": {},
   "outputs": [
    {
     "name": "stderr",
     "output_type": "stream",
     "text": [
      "C:\\Users\\User_\\AppData\\Roaming\\Python\\Python311\\site-packages\\sklearn\\model_selection\\_search.py:307: UserWarning: The total space of parameters 38 is smaller than n_iter=100. Running 38 iterations. For exhaustive searches, use GridSearchCV.\n",
      "  warnings.warn(\n"
     ]
    },
    {
     "name": "stdout",
     "output_type": "stream",
     "text": [
      "Время, затраченное на кросс-валидацию, секунд: 24.086017847061157\n"
     ]
    }
   ],
   "source": [
    "# выполним кросс-валидацию\n",
    "\n",
    "start_kn = time()\n",
    "\n",
    "kn, score_kn, best_params_kn = run_randomized_search(model_kn, params_kn)\n",
    "\n",
    "end_kn = time()\n",
    "\n",
    "kn_time = end_kn - start_kn\n",
    "print(f'Время, затраченное на кросс-валидацию, секунд: {kn_time}')"
   ]
  },
  {
   "cell_type": "code",
   "execution_count": 102,
   "id": "bd58bd4b",
   "metadata": {},
   "outputs": [
    {
     "name": "stdout",
     "output_type": "stream",
     "text": [
      "KNeighborsClassifier\n",
      "\n",
      "Метрика F1 на тренировочной выборке: 0.924313422853321\n",
      "Лучшие параметры модели: {'p': 2, 'n_neighbors': 3}\n"
     ]
    }
   ],
   "source": [
    "# оценим результат\n",
    "\n",
    "results_kn = show_cv_results(score_kn, best_params_kn, 'KNeighborsClassifier')"
   ]
  },
  {
   "cell_type": "markdown",
   "id": "23d51076",
   "metadata": {},
   "source": [
    "---\n",
    "\n",
    "<div style=\"background-color: rgba(255, 255, 255, 0.8); padding: 20px; font-size: 25px; color: rgba(28, 28, 28, 1);\">\n",
    "Анализ результатов\n",
    "</div>\n",
    "\n",
    "---"
   ]
  },
  {
   "cell_type": "code",
   "execution_count": 89,
   "id": "25ae10a4",
   "metadata": {},
   "outputs": [
    {
     "data": {
      "text/html": [
       "<div>\n",
       "<style scoped>\n",
       "    .dataframe tbody tr th:only-of-type {\n",
       "        vertical-align: middle;\n",
       "    }\n",
       "\n",
       "    .dataframe tbody tr th {\n",
       "        vertical-align: top;\n",
       "    }\n",
       "\n",
       "    .dataframe thead th {\n",
       "        text-align: right;\n",
       "    }\n",
       "</style>\n",
       "<table border=\"1\" class=\"dataframe\">\n",
       "  <thead>\n",
       "    <tr style=\"text-align: right;\">\n",
       "      <th></th>\n",
       "      <th>model</th>\n",
       "      <th>f1_train</th>\n",
       "    </tr>\n",
       "  </thead>\n",
       "  <tbody>\n",
       "    <tr>\n",
       "      <th>0</th>\n",
       "      <td>logistic_regression</td>\n",
       "      <td>0.918873</td>\n",
       "    </tr>\n",
       "    <tr>\n",
       "      <th>1</th>\n",
       "      <td>decision_tree_classifier</td>\n",
       "      <td>0.930698</td>\n",
       "    </tr>\n",
       "    <tr>\n",
       "      <th>2</th>\n",
       "      <td>random_forest_classifier</td>\n",
       "      <td>0.929684</td>\n",
       "    </tr>\n",
       "    <tr>\n",
       "      <th>3</th>\n",
       "      <td>k_neighbors_classifier</td>\n",
       "      <td>0.924313</td>\n",
       "    </tr>\n",
       "  </tbody>\n",
       "</table>\n",
       "</div>"
      ],
      "text/plain": [
       "                      model  f1_train\n",
       "0       logistic_regression  0.918873\n",
       "1  decision_tree_classifier  0.930698\n",
       "2  random_forest_classifier  0.929684\n",
       "3    k_neighbors_classifier  0.924313"
      ]
     },
     "metadata": {},
     "output_type": "display_data"
    },
    {
     "data": {
      "text/plain": [
       "0.9306975952101391"
      ]
     },
     "metadata": {},
     "output_type": "display_data"
    }
   ],
   "source": [
    "# объединим результаты в датафрейм\n",
    "\n",
    "models_names = [\n",
    "    'logistic_regression',\n",
    "    'decision_tree_classifier',\n",
    "    'random_forest_classifier',\n",
    "    'k_neighbors_classifier'\n",
    "]\n",
    "\n",
    "models_results_list = {\n",
    "    'model': models_names,\n",
    "    'f1_train': [score_lr, score_dt, score_rf, score_kn],\n",
    "}\n",
    "\n",
    "\n",
    "# оценим результат \n",
    "\n",
    "models = pd.DataFrame(models_results_list)\n",
    "display(models, models['f1_train'].max())"
   ]
  },
  {
   "cell_type": "code",
   "execution_count": 90,
   "id": "debaa7a4",
   "metadata": {},
   "outputs": [],
   "source": [
    "# выполним предсказания модели на тестовой выборке\n",
    "\n",
    "y_pred = dt.predict(X_test)"
   ]
  },
  {
   "cell_type": "code",
   "execution_count": 91,
   "id": "d7b3814d",
   "metadata": {},
   "outputs": [],
   "source": [
    "# посчитаем целевую метрику модели на тестовой выборке\n",
    "\n",
    "test_score = f1_score(y_test, y_pred)"
   ]
  },
  {
   "cell_type": "code",
   "execution_count": 92,
   "id": "a499c98d",
   "metadata": {},
   "outputs": [
    {
     "data": {
      "text/html": [
       "<div>\n",
       "<style scoped>\n",
       "    .dataframe tbody tr th:only-of-type {\n",
       "        vertical-align: middle;\n",
       "    }\n",
       "\n",
       "    .dataframe tbody tr th {\n",
       "        vertical-align: top;\n",
       "    }\n",
       "\n",
       "    .dataframe thead th {\n",
       "        text-align: right;\n",
       "    }\n",
       "</style>\n",
       "<table border=\"1\" class=\"dataframe\">\n",
       "  <thead>\n",
       "    <tr style=\"text-align: right;\">\n",
       "      <th></th>\n",
       "      <th>model</th>\n",
       "      <th>f1_train</th>\n",
       "      <th>f1_test</th>\n",
       "    </tr>\n",
       "  </thead>\n",
       "  <tbody>\n",
       "    <tr>\n",
       "      <th>0</th>\n",
       "      <td>decision_tree_classifier</td>\n",
       "      <td>0.930698</td>\n",
       "      <td>0.918367</td>\n",
       "    </tr>\n",
       "  </tbody>\n",
       "</table>\n",
       "</div>"
      ],
      "text/plain": [
       "                      model  f1_train   f1_test\n",
       "0  decision_tree_classifier  0.930698  0.918367"
      ]
     },
     "execution_count": 92,
     "metadata": {},
     "output_type": "execute_result"
    }
   ],
   "source": [
    "# объединим результат в отдельный датафрейм\n",
    "\n",
    "result = {\n",
    "    'model': ['decision_tree_classifier'],\n",
    "    'f1_train': [score_dt],\n",
    "    'f1_test': [test_score]\n",
    "}\n",
    "\n",
    "# оценим результат\n",
    "\n",
    "model = pd.DataFrame(result)\n",
    "model"
   ]
  },
  {
   "cell_type": "markdown",
   "id": "e7a9e9e4",
   "metadata": {},
   "source": [
    "Инициализируем и обучим модель DummyClassifier, а затем сравним её метрику с метрикой нашей лучшей модели, чтобы оценить адекватность проделанной работы. DummyClassifier предсказывает константное значение, и если его метрики будут выше метрик нашей модели, это будет значить, что даже эта базовая модель работает лучше, а получившаяся модель `CatBoostClassifier` не принесёт пользы"
   ]
  },
  {
   "cell_type": "code",
   "execution_count": 97,
   "id": "493e40bf",
   "metadata": {},
   "outputs": [],
   "source": [
    "# инициализируем модель DummyClassifier\n",
    "\n",
    "dummy_clf = DummyClassifier(strategy='constant', constant=1)"
   ]
  },
  {
   "cell_type": "code",
   "execution_count": 98,
   "id": "f6df4fed",
   "metadata": {},
   "outputs": [
    {
     "data": {
      "text/plain": [
       "0.1751824817518248"
      ]
     },
     "execution_count": 98,
     "metadata": {},
     "output_type": "execute_result"
    }
   ],
   "source": [
    "# обучим DummyClassifier, выполним предсказание на тестовой выборке и выведем на экран метрику модели\n",
    "\n",
    "dummy_clf.fit(X_train, y_train)\n",
    "y_pred_dummy = dummy_clf.predict(X_test)\n",
    "f1_score(y_test, y_pred_dummy)"
   ]
  },
  {
   "cell_type": "markdown",
   "id": "71966d0e",
   "metadata": {},
   "source": [
    "---\n",
    "\n",
    "<div style=\"background-color: rgba(255, 255, 255, 0.8); padding: 20px; font-size: 25px; color: rgba(28, 28, 28, 1);\">\n",
    "Общий вывод\n",
    "</div>\n",
    "\n",
    "---"
   ]
  },
  {
   "cell_type": "markdown",
   "id": "d279cfc7",
   "metadata": {},
   "source": [
    "По итогам предобработки данных не было обнаружено ни пропусков, ни дубликатов. В столбце `toxic`, содержащем целевой признак, был выявлен дисбаланс классов, который решился посредством разбиения данных на выборки с параметром *stratify* и установкой параметра *class_weight = 'balanced'* у некоторых из моделей. В ходе предобработки текста данные также были приведены к нижнему регистру, очищены от лишних символом и слов-сокращений. Обработанный текст комментариев был сохранён в столбец `text_cleared` датафрейма `comments`, затем текст был токенизирован и передан модели BERT для преобразования текста в эмбеддинги.\n",
    "\n",
    "Для решения задачи классификации были обучены четыре модели: `LogisticRegression`, `DecisionTreeClassifier`, `RandomForestClassifier` и `KNeighborsClassifier`. По итогам исследования лучшей оказалась модель `DecisionTreeClassifier`, которая также была проверена на адекватность с помощью `DummyClassifier`:\n",
    "\n",
    "- `Метрика F1 модели DecisionTreeClassifier на тренировочной выборке:` 0.930698\n",
    "- `Метрика F1 модели DecisionTreeClassifier на тестовой выборке:` 0.918367\n",
    "- `Метрика F1 модели DummyClassifier на тестовой выборке`: 0.175182\n",
    "\n",
    "Параметры этой модели: \n",
    "\n",
    "- `max_depth`: 8\n",
    "- `max_features`: 128\n",
    "\n",
    "Так, получившаяся модель полностью отвечает основной задаче исследования, как и значение целевой метрики"
   ]
  },
  {
   "cell_type": "markdown",
   "id": "2878d4d2",
   "metadata": {},
   "source": [
    "---"
   ]
  }
 ],
 "metadata": {
  "ExecuteTimeLog": [
   {
    "duration": 4,
    "start_time": "2024-03-25T08:58:15.561Z"
   }
  ],
  "kernelspec": {
   "display_name": "Python 3 (ipykernel)",
   "language": "python",
   "name": "python3"
  },
  "language_info": {
   "codemirror_mode": {
    "name": "ipython",
    "version": 3
   },
   "file_extension": ".py",
   "mimetype": "text/x-python",
   "name": "python",
   "nbconvert_exporter": "python",
   "pygments_lexer": "ipython3",
   "version": "3.11.7"
  },
  "toc": {
   "base_numbering": 1,
   "nav_menu": {},
   "number_sections": true,
   "sideBar": true,
   "skip_h1_title": true,
   "title_cell": "Table of Contents",
   "title_sidebar": "Contents",
   "toc_cell": false,
   "toc_position": {},
   "toc_section_display": true,
   "toc_window_display": false
  }
 },
 "nbformat": 4,
 "nbformat_minor": 5
}
